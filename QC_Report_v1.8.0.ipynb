{
 "cells": [
  {
   "cell_type": "markdown",
   "id": "4c714531",
   "metadata": {},
   "source": [
    "# QC Report v1.8.0\n",
    "\n",
    "This notebook recomputes per-neuron Pearson correlations between membrane potential and firing rate across labeled epochs:\n",
    "\n",
    "- pre_baseline (0–499 ms)\n",
    "- inhibitory_500_700 (500–700 ms)\n",
    "- mid_baseline (701–1199 ms)\n",
    "- excitatory_1200_1300 (1200–1300 ms)\n",
    "- post_baseline (1301+ ms)\n"
   ]
  },
  {
   "cell_type": "code",
   "execution_count": null,
   "id": "4226ed58",
   "metadata": {},
   "outputs": [],
   "source": [
    "import pandas as pd\n",
    "import numpy as np\n",
    "import matplotlib.pyplot as plt\n",
    "data_path = r'/mnt/data/synthetic_neural_data_v1.8.0_panel_labeled_epochs.csv'\n",
    "qc_path = r'/mnt/data/qc_epoch_correlations_v1.8.0.csv'\n",
    "df = pd.read_csv(data_path)\n",
    "qc = pd.read_csv(qc_path)\n",
    "df.head()"
   ]
  },
  {
   "cell_type": "code",
   "execution_count": null,
   "id": "3947196f",
   "metadata": {},
   "outputs": [],
   "source": [
    "# Show QC summary pivot (mean r by epoch)\n",
    "pivot = qc.pivot_table(index='epoch', values='pearson_r_vm_fr', aggfunc='mean').sort_index()\n",
    "pivot"
   ]
  },
  {
   "cell_type": "code",
   "execution_count": null,
   "id": "e244d668",
   "metadata": {},
   "outputs": [],
   "source": [
    "# Plot distribution of correlations by epoch\n",
    "epochs = sorted(qc['epoch'].unique())\n",
    "figs = []\n",
    "for ep in epochs:\n",
    "    vals = qc.loc[qc['epoch']==ep, 'pearson_r_vm_fr'].dropna().values\n",
    "    plt.figure()\n",
    "    plt.hist(vals, bins=20)\n",
    "    plt.title(f'Correlation distribution: {ep}')\n",
    "    plt.xlabel('Pearson r (Vm vs FR)')\n",
    "    plt.ylabel('Count')\n",
    "    plt.show()\n"
   ]
  },
  {
   "cell_type": "code",
   "execution_count": null,
   "id": "ec7ea8c6",
   "metadata": {},
   "outputs": [],
   "source": [
    "# Example: pick a neuron and visualize Vm/FR around the inhibitory and excitatory windows\n",
    "neuron_id = 1\n",
    "dn = df[df['neuron_id']==neuron_id]\n",
    "fig = plt.figure()\n",
    "ax1 = fig.add_subplot(211)\n",
    "ax1.plot(dn['time_ms'], dn['membrane_potential_mV'])\n",
    "ax1.set_title(f'Neuron {neuron_id} — Membrane Potential (mV)')\n",
    "ax1.set_xlabel('time_ms')\n",
    "ax1.set_ylabel('mV')\n",
    "ax2 = fig.add_subplot(212)\n",
    "ax2.plot(dn['time_ms'], dn['firing_rate_Hz'])\n",
    "ax2.set_title(f'Neuron {neuron_id} — Firing Rate (Hz)')\n",
    "ax2.set_xlabel('time_ms')\n",
    "ax2.set_ylabel('Hz')\n",
    "plt.tight_layout()\n",
    "plt.show()\n"
   ]
  }
 ],
 "metadata": {},
 "nbformat": 4,
 "nbformat_minor": 5
}
